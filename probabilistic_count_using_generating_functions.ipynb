{
 "cells": [
  {
   "cell_type": "markdown",
   "id": "mineral-settlement",
   "metadata": {},
   "source": [
    "We can use the numpy package which elegantly supports polynomial artihmetic using the numpy.polynomial package.\n",
    "Using this package, a polynomial is represented simply as an array.\n",
    "For example, the numpy.polynomial.polynomial.Polynomial([2,5,4]) corresponds to the polynomial 4x^2 + 5x + 2"
   ]
  },
  {
   "cell_type": "code",
   "execution_count": 50,
   "id": "north-genesis",
   "metadata": {},
   "outputs": [],
   "source": [
    "import numpy as np"
   ]
  },
  {
   "cell_type": "markdown",
   "id": "challenging-catering",
   "metadata": {},
   "source": [
    "The following function takes a list of probabilities and computes the probability mass function of the probabilistic count of these probabilities. \n",
    "In other words, given a list of Bernoulli random events (\"trials\") each having a (possibly non-identical) probability of successed, the function below computes the distribution of the number of successful trials.\n",
    "In yet other words, the function below computes the proability mass function of a Poisson-Binomial distribution having the specified list of parameters.\n",
    "\n",
    "As an example, probabilistic_Counting([0.3,0.2,0.9]) will return the array [0.056,0.542,0.348,0.054] indicating that out of three trials having probabilities of 0.3, 0.2, and 0.9, respectively, the probability of having exactly zero successful trials is 0.056, the probability of having exactly one successful trial is 0.542, the probability of having exactly two successful trials is 0.348, and the probability of all four trials succeeding is 0.054."
   ]
  },
  {
   "cell_type": "code",
   "execution_count": 59,
   "id": "hindu-tuition",
   "metadata": {},
   "outputs": [],
   "source": [
    "def probabilistic_Counting(probabilities):\n",
    "    # The initial polynomial 1 corresponds to zero successful trials with a probability of 100%\n",
    "    result_polynomial = np.polynomial.polynomial.Polynomial([1])\n",
    "    for p in probabilities:\n",
    "        #For each probability p create the generating polynomial px + (1-p), which is represented as np.polynomial.polynomial.Polynomial([1-p,p])\n",
    "        new_generating_polynomial = np.polynomial.polynomial.Polynomial([1-p,p])\n",
    "        #Multiply this new polynomial to the current result\n",
    "        result_polynomial = result_polynomial * new_generating_polynomial\n",
    "    return(result_polynomial)                                                         "
   ]
  },
  {
   "cell_type": "markdown",
   "id": "addressed-seeking",
   "metadata": {},
   "source": [
    "Example using probabilities 0.2, 0.3, and 0.9."
   ]
  },
  {
   "cell_type": "code",
   "execution_count": 80,
   "id": "polar-likelihood",
   "metadata": {},
   "outputs": [
    {
     "name": "stdout",
     "output_type": "stream",
     "text": [
      "0.8 + 0.2 x**1\n",
      "0.07999999999999999 + 0.7400000000000001 x**1\n",
      "0.05599999999999999 + 0.542 x**1\n",
      "[0.056 0.542]\n"
     ]
    }
   ],
   "source": [
    "poly = probabilistic_Counting([0.2,0.9,0.3])\n",
    "print(poly.coef)"
   ]
  },
  {
   "cell_type": "markdown",
   "id": "olympic-playlist",
   "metadata": {},
   "source": [
    "The following variant truncates, in each iteration of polynomial expansion, any monomials having an exponent greater than K. This variant is useful for computing the probability of having a probabilistic count of at least (at most) K without expanding the full probabilistic count."
   ]
  },
  {
   "cell_type": "code",
   "execution_count": 81,
   "id": "tight-catalog",
   "metadata": {},
   "outputs": [],
   "source": [
    "def probabilistic_Counting_Truncated(probabilities,K):\n",
    "    # The initial polynomial 1 corresponds to zero successful trials with a probability of 100%\n",
    "    result_polynomial = np.polynomial.polynomial.Polynomial([1])\n",
    "    for p in probabilities:\n",
    "        #For each probability p create the generating polynomial px + (1-p), which is represented as np.polynomial.polynomial.Polynomial([1-p,p])\n",
    "        new_generating_polynomial = np.polynomial.polynomial.Polynomial([1-p,p])\n",
    "        #Multiply this new polynomial to the current result\n",
    "        result_polynomial = result_polynomial * new_generating_polynomial\n",
    "        result_polynomial = result_polynomial.cutdeg(K)\n",
    "    return(result_polynomial)                                                         "
   ]
  },
  {
   "cell_type": "markdown",
   "id": "starting-biotechnology",
   "metadata": {},
   "source": [
    "The same example using probabilities 0.2, 0.3, and 0.9, truncated to a degree of K=2"
   ]
  },
  {
   "cell_type": "code",
   "execution_count": 84,
   "id": "buried-monthly",
   "metadata": {},
   "outputs": [
    {
     "name": "stdout",
     "output_type": "stream",
     "text": [
      "[0.056 0.542 0.348]\n"
     ]
    }
   ],
   "source": [
    "poly = probabilistic_Counting_Truncated([0.2,0.9,0.3],2)\n",
    "print(poly.coef)"
   ]
  }
 ],
 "metadata": {
  "kernelspec": {
   "display_name": "Python 3",
   "language": "python",
   "name": "python3"
  },
  "language_info": {
   "codemirror_mode": {
    "name": "ipython",
    "version": 3
   },
   "file_extension": ".py",
   "mimetype": "text/x-python",
   "name": "python",
   "nbconvert_exporter": "python",
   "pygments_lexer": "ipython3",
   "version": "3.9.7"
  }
 },
 "nbformat": 4,
 "nbformat_minor": 5
}
